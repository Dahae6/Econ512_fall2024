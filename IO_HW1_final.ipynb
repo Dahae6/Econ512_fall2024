{
  "cells": [
    {
      "cell_type": "markdown",
      "metadata": {
        "id": "view-in-github",
        "colab_type": "text"
      },
      "source": [
        "<a href=\"https://colab.research.google.com/github/Dahae6/Econ512_fall2024/blob/main/IO_HW1_final.ipynb\" target=\"_parent\"><img src=\"https://colab.research.google.com/assets/colab-badge.svg\" alt=\"Open In Colab\"/></a>"
      ]
    },
    {
      "cell_type": "code",
      "execution_count": null,
      "id": "ea4aadc5",
      "metadata": {
        "id": "ea4aadc5"
      },
      "outputs": [],
      "source": [
        "import numpy as np\n",
        "import pandas as pd\n",
        "import statsmodels.api as sm\n",
        "from scipy.optimize import minimize\n",
        "from sklearn.linear_model import LinearRegression\n",
        "from statsmodels.sandbox.regression.gmm import IV2SLS\n",
        "from scipy.optimize import fsolve\n",
        "\n",
        "# Load the dataset\n",
        "data = pd.read_csv('product_data.csv')"
      ]
    },
    {
      "cell_type": "code",
      "execution_count": null,
      "id": "9fe92ccf",
      "metadata": {
        "id": "9fe92ccf",
        "outputId": "858ebc1c-a6f3-40ee-b926-a707d6c7bd2f"
      },
      "outputs": [
        {
          "name": "stdout",
          "output_type": "stream",
          "text": [
            "                            OLS Regression Results                            \n",
            "==============================================================================\n",
            "Dep. Variable:              log_share   R-squared:                       0.885\n",
            "Model:                            OLS   Adj. R-squared:                  0.884\n",
            "Method:                 Least Squares   F-statistic:                     1912.\n",
            "Date:                Sun, 22 Sep 2024   Prob (F-statistic):               0.00\n",
            "Time:                        04:40:57   Log-Likelihood:                -1305.2\n",
            "No. Observations:                1000   AIC:                             2620.\n",
            "Df Residuals:                     995   BIC:                             2645.\n",
            "Df Model:                           4                                         \n",
            "Covariance Type:            nonrobust                                         \n",
            "==============================================================================\n",
            "                 coef    std err          t      P>|t|      [0.025      0.975]\n",
            "------------------------------------------------------------------------------\n",
            "price         -1.6261      0.021    -77.352      0.000      -1.667      -1.585\n",
            "sugar          1.5281      0.041     37.444      0.000       1.448       1.608\n",
            "caffeine       1.4458      0.029     50.517      0.000       1.390       1.502\n",
            "diet_d        -2.4406      0.149    -16.422      0.000      -2.732      -2.149\n",
            "regular_d     -6.6921      0.245    -27.269      0.000      -7.174      -6.211\n",
            "==============================================================================\n",
            "Omnibus:                        1.109   Durbin-Watson:                   1.901\n",
            "Prob(Omnibus):                  0.574   Jarque-Bera (JB):                1.172\n",
            "Skew:                          -0.048   Prob(JB):                        0.557\n",
            "Kurtosis:                       2.862   Cond. No.                         63.3\n",
            "==============================================================================\n",
            "\n",
            "Notes:\n",
            "[1] Standard Errors assume that the covariance matrix of the errors is correctly specified.\n"
          ]
        }
      ],
      "source": [
        "# Problem 1(a)\n",
        "\n",
        "# Number of consumers in each market\n",
        "M_t = 100000\n",
        "\n",
        "# Compute the share of the outside option (assuming it’s 1 minus the total share of soft drinks)\n",
        "total_share = data.groupby('t')['market_share'].sum()\n",
        "data = data.merge(total_share.rename('total_share'), on='t')\n",
        "data['outside_share'] = 1 - data['total_share']\n",
        "\n",
        "# Log of market share relative to the outside option's share\n",
        "data['log_share'] = np.log(data['market_share']) - np.log(data['outside_share'])\n",
        "\n",
        "# Define independent variables (price, sugar, caffeine, Diet, Regular)\n",
        "# Create dummy variables based on the 'nest' variable\n",
        "\n",
        "data['diet_d'] = np.where(data['nest'] == 'Diet', 1, 0)  # 1 if Diet, 0 otherwise\n",
        "data['regular_d'] = np.where(data['nest'] == 'Regular', 1, 0)  # 1 if Regular, 0 otherwise\n",
        "X = data[['price', 'sugar', 'caffeine', 'diet_d', 'regular_d']]\n",
        "\n",
        "# The dependent variable is the log difference between market share and outside share\n",
        "y = data['log_share']\n",
        "\n",
        "# Perform OLS regression\n",
        "ols_model = sm.OLS(y, X).fit()\n",
        "\n",
        "# Print the summary of the OLS regression\n",
        "print(ols_model.summary())\n"
      ]
    },
    {
      "cell_type": "code",
      "execution_count": null,
      "id": "8d697d39",
      "metadata": {
        "id": "8d697d39",
        "outputId": "987810f3-2bfc-4a04-de45-988f745e07c6"
      },
      "outputs": [
        {
          "name": "stdout",
          "output_type": "stream",
          "text": [
            "                            OLS Regression Results                            \n",
            "==============================================================================\n",
            "Dep. Variable:              log_share   R-squared:                       0.200\n",
            "Model:                            OLS   Adj. R-squared:                  0.196\n",
            "Method:                 Least Squares   F-statistic:                     62.03\n",
            "Date:                Sun, 22 Sep 2024   Prob (F-statistic):           7.93e-47\n",
            "Time:                        04:41:06   Log-Likelihood:                -2274.7\n",
            "No. Observations:                1000   AIC:                             4559.\n",
            "Df Residuals:                     995   BIC:                             4584.\n",
            "Df Model:                           4                                         \n",
            "Covariance Type:            nonrobust                                         \n",
            "===================================================================================\n",
            "                      coef    std err          t      P>|t|      [0.025      0.975]\n",
            "-----------------------------------------------------------------------------------\n",
            "predicted_price    -1.2109      0.406     -2.981      0.003      -2.008      -0.414\n",
            "sugar               1.3348      0.216      6.179      0.000       0.911       1.759\n",
            "caffeine            1.3231      0.141      9.393      0.000       1.047       1.599\n",
            "Diet               -2.6653      0.448     -5.945      0.000      -3.545      -1.786\n",
            "Regular            -6.5497      0.662     -9.900      0.000      -7.848      -5.251\n",
            "==============================================================================\n",
            "Omnibus:                     1344.412   Durbin-Watson:                   1.838\n",
            "Prob(Omnibus):                  0.000   Jarque-Bera (JB):           170196.136\n",
            "Skew:                          -7.460   Prob(JB):                         0.00\n",
            "Kurtosis:                      65.146   Cond. No.                         63.6\n",
            "==============================================================================\n",
            "\n",
            "Notes:\n",
            "[1] Standard Errors assume that the covariance matrix of the errors is correctly specified.\n"
          ]
        }
      ],
      "source": [
        "# Problem 1(b)\n",
        "\n",
        "# Compute the share of the outside option (assuming it’s 1 minus the total share of soft drinks)\n",
        "total_share = data.groupby('t')['market_share'].sum()\n",
        "data = data.merge(total_share.rename('total_share'), on='t')\n",
        "data['outside_share'] = 1 - data['total_share']\n",
        "\n",
        "# Log of market share relative to the outside option's share\n",
        "data['log_share'] = np.log(data['market_share']) - np.log(data['outside_share'])\n",
        "\n",
        "# Create dummy variables for Diet and Regular\n",
        "data['Diet'] = (data['nest'] == 'Diet').astype(int)\n",
        "data['Regular'] = (data['nest'] == 'Regular').astype(int)\n",
        "\n",
        "\n",
        "sugar = data['sugar']\n",
        "caffeine = data['caffeine']\n",
        "share = data['market_share']\n",
        "diet = data['Diet']\n",
        "regular = data['Regular']\n",
        "\n",
        "# First Stage: Regress 'price' on instruments and exogenous variables\n",
        "\n",
        "# Step 1: Create the instrument variables (taking into account the fact that prices affect in proportion to caffeine and sugar content)\n",
        "data['instr_caffeine_price'] = data['caffeine_extract_price'] * data['caffeine']\n",
        "data['instr_sugar_price'] = data['corn_syrup_price'] * data['sugar']\n",
        "\n",
        "# Step 2: Combine the instruments\n",
        "data['instr_price'] = data['instr_caffeine_price'] + data['instr_sugar_price']\n",
        "\n",
        "# Exogenous variables (excluding price)\n",
        "X_exog = data[['instr_price','caffeine','sugar','Diet', 'Regular']]\n",
        "\n",
        "# Endogenous variable\n",
        "y_endog = data['price']\n",
        "\n",
        "# Perform the first stage OLS regression\n",
        "first_stage_model = sm.OLS(y_endog, X_exog).fit()\n",
        "data['predicted_price'] = first_stage_model.fittedvalues\n",
        "\n",
        "# Instruments (created above)\n",
        "instruments = data[['predicted_price', 'sugar', 'caffeine', 'Diet', 'Regular']]\n",
        "\n",
        "# Second stage regression: Use predicted price instead of actual price\n",
        "second_stage = sm.OLS(data['log_share'], instruments).fit()\n",
        "\n",
        "# Step 5: Print the summary of the second stage results\n",
        "print(second_stage.summary())"
      ]
    },
    {
      "cell_type": "code",
      "execution_count": null,
      "id": "d1ed9e67",
      "metadata": {
        "id": "d1ed9e67"
      },
      "outputs": [],
      "source": [
        "# Assuming the estimated parameters from problem 1(b)\n",
        "alpha = -1.2109\n",
        "beta1 = 1.3348\n",
        "beta2 = 1.3231\n",
        "gamma_d = -2.6653\n",
        "gamma_r = -6.5497"
      ]
    },
    {
      "cell_type": "code",
      "execution_count": null,
      "id": "98355d60",
      "metadata": {
        "id": "98355d60",
        "outputId": "8fb1c2ae-0483-429d-f069-bd390fba2fa2"
      },
      "outputs": [
        {
          "name": "stdout",
          "output_type": "stream",
          "text": [
            "Own-mean price elasticity for Diet drinks: -2.5538118020848186\n",
            "Own-mean price elasticity for Regular drinks: -3.606697842999219\n"
          ]
        }
      ],
      "source": [
        "#Problem 1 (c)\n",
        "\n",
        "# Filter the data to include only Diet drinks\n",
        "diet_data = data[data['Diet'] == 1]\n",
        "regular_data = data[data['Regular'] == 1]\n",
        "\n",
        "\n",
        "# Calculate the own-price derivatives and own-price elasticities\n",
        "d_own_price_derivative = alpha * diet_data['market_share'] * (1 -diet_data['market_share'])\n",
        "d_own_price_elasticity = d_own_price_derivative * diet_data['price'] / diet_data['market_share']\n",
        "\n",
        "# d_mean_elasticity_regular = [regular]['own_price_elasticity'].mean()\n",
        "d_mean_elasticity_diet = d_own_price_elasticity.mean()\n",
        "print(f\"Own-mean price elasticity for Diet drinks: {d_mean_elasticity_diet}\")\n",
        "\n",
        "\n",
        "# Calculate the own-price derivatives and own-price elasticities\n",
        "r_own_price_derivative = alpha * regular_data['market_share'] * (1 - regular_data['market_share'])\n",
        "r_own_price_elasticity = r_own_price_derivative * regular_data['price'] / regular_data['market_share']\n",
        "\n",
        "r_mean_elasticity_regular = r_own_price_elasticity.mean()\n",
        "print(f\"Own-mean price elasticity for Regular drinks: {r_mean_elasticity_regular}\")"
      ]
    },
    {
      "cell_type": "code",
      "execution_count": null,
      "id": "e436b257",
      "metadata": {
        "id": "e436b257",
        "outputId": "1ac76dc3-416c-4fc9-f3b7-a9c36b66b3e3"
      },
      "outputs": [
        {
          "name": "stdout",
          "output_type": "stream",
          "text": [
            "Mean cross-price elasticity between product 1 and diet sodas: 0.19076487055996072\n",
            "Mean cross-price elasticity between product 1 and regular sodas: 0.28434282928123555\n"
          ]
        }
      ],
      "source": [
        "# Problem 1(d)\n",
        "\n",
        "product1_data = data[data['product_ID']== 1]\n",
        "share_1 = product1_data['market_share']\n",
        "\n",
        "# Cross-price derivative for all group\n",
        "\n",
        "cross_price_derivatives = []\n",
        "for t in data['t'].unique():\n",
        "    for j in data[data['product_ID'] != 1]['product_ID'].unique():\n",
        "        sjt = data[(data['t'] == t) & (data['product_ID'] == j)]['market_share'].values[0]\n",
        "        cross_price_derivatives.append(-alpha * sjt * share_1)\n",
        "\n",
        "# Calculate the cross-price elasticities for all j ≠ 1 and all t\n",
        "\n",
        "cross_price_elasticities = []\n",
        "for t in data['t'].unique():\n",
        "    for j in data[data['product_ID'] != 1]['product_ID'].unique():\n",
        "        sjt = data[(data['t'] == t) & (data['product_ID'] == j)]['market_share'].values[0]\n",
        "        pj = data[(data['t'] == t) & (data['product_ID'] == j)]['price'].values[0]\n",
        "        cross_price_elasticities.append(cross_price_derivatives.pop(0) * pj / sjt)\n",
        "\n",
        "# Calculate the mean cross-price elasticity between product 1 and diet sodas, and between product 1 and regular sodas\n",
        "\n",
        "mean_cross_price_elasticity_diet = np.mean([e for e, nest in zip(cross_price_elasticities, data[data['product_ID'] != 1]['nest']) if nest == 'Diet'])\n",
        "mean_cross_price_elasticity_regular = np.mean([e for e, nest in zip(cross_price_elasticities, data[data['product_ID'] != 1]['nest']) if nest == 'Regular'])\n",
        "\n",
        "print(\"Mean cross-price elasticity between product 1 and diet sodas:\", mean_cross_price_elasticity_diet)\n",
        "print(\"Mean cross-price elasticity between product 1 and regular sodas:\", mean_cross_price_elasticity_regular)"
      ]
    },
    {
      "cell_type": "code",
      "execution_count": null,
      "id": "38ee2761",
      "metadata": {
        "id": "38ee2761",
        "outputId": "ac61a4cd-185d-4ebe-95a5-cfddbf13c9a7"
      },
      "outputs": [
        {
          "name": "stdout",
          "output_type": "stream",
          "text": [
            "Jacobian matrix for time period 100:\n",
            "[[-7.14068846e-02  1.05873676e-04  7.78026153e-04  1.54836121e-03\n",
            "   1.86582602e-02  2.97905551e-03  3.38853530e-02  7.33296374e-03\n",
            "   3.10626249e-03  2.75347287e-03]\n",
            " [ 1.05873676e-04 -1.68005792e-03  1.71772671e-05  3.41847301e-05\n",
            "   4.11937205e-04  6.57716094e-05  7.48121072e-04  1.61897227e-04\n",
            "   6.85800859e-05  6.07911942e-05]\n",
            " [ 7.78026153e-04  1.71772671e-05 -1.22370669e-02  2.51210831e-04\n",
            "   3.02717287e-03  4.83331026e-04  5.49766271e-03  1.18972234e-03\n",
            "   5.03969472e-04  4.46731811e-04]\n",
            " [ 1.54836121e-03  3.41847301e-05  2.51210831e-04 -2.41044381e-02\n",
            "   6.02442093e-03  9.61884130e-04  1.09409788e-02  2.36768379e-03\n",
            "   1.00295700e-03  8.89047500e-04]\n",
            " [ 1.86582602e-02  4.11937205e-04  3.02717287e-03  6.02442093e-03\n",
            "  -2.23894555e-01  1.15910191e-02  1.31842382e-01  2.85313660e-02\n",
            "   1.20859607e-02  1.07133139e-02]\n",
            " [ 2.97905551e-03  6.57716094e-05  4.83331026e-04  9.61884130e-04\n",
            "   1.15910191e-02 -4.54882857e-02  2.10505037e-02  4.55543669e-03\n",
            "   1.92969481e-03  1.71053230e-03]\n",
            " [ 3.38853530e-02  7.48121072e-04  5.49766271e-03  1.09409788e-02\n",
            "   1.31842382e-01  2.10505037e-02 -2.99018761e-01  5.18159462e-02\n",
            "   2.19493694e-02  1.94564991e-02]\n",
            " [ 7.33296374e-03  1.61897227e-04  1.18972234e-03  2.36768379e-03\n",
            "   2.85313660e-02  4.55543669e-03  5.18159462e-02 -1.05311900e-01\n",
            "   4.74995583e-03  4.21048593e-03]\n",
            " [ 3.10626249e-03  6.85800859e-05  5.03969472e-04  1.00295700e-03\n",
            "   1.20859607e-02  1.92969481e-03  2.19493694e-02  4.74995583e-03\n",
            "  -4.73482566e-02  1.78357278e-03]\n",
            " [ 2.75347287e-03  6.07911942e-05  4.46731811e-04  8.89047500e-04\n",
            "   1.07133139e-02  1.71053230e-03  1.94564991e-02  4.21048593e-03\n",
            "   1.78357278e-03 -4.21733084e-02]]\n"
          ]
        }
      ],
      "source": [
        "# Problem 1(e)\n",
        "\n",
        "\n",
        "# Step 3: Define a function to generate the Jacobian matrix for a given time period\n",
        "def jacobian_matrix(time_period, data, alpha):\n",
        "    # Filter data for the given time period\n",
        "    data_t = data[data['t'] == time_period]\n",
        "\n",
        "    # Get the number of products in the time period\n",
        "    n_products = len(data_t)\n",
        "\n",
        "    # Initialize the Jacobian matrix\n",
        "    jacobian = np.zeros((n_products, n_products))\n",
        "\n",
        "    # Loop through products to compute the elements of the Jacobian\n",
        "    for i in range(n_products):\n",
        "        for j in range(n_products):\n",
        "            s_j = data_t.iloc[j]['market_share']  # Market share of product j\n",
        "            s_i = data_t.iloc[i]['market_share']  # Market share of product i\n",
        "            if i == j:\n",
        "                # Diagonal element: ∂s_j / ∂p_j = α * s_j * (1 - s_j)\n",
        "                jacobian[i, j] = alpha * s_j * (1 - s_j)\n",
        "            else:\n",
        "                # Off-diagonal element: ∂s_j / ∂p_i = - α * s_j * s_i\n",
        "                jacobian[i, j] = - alpha * s_j * s_i\n",
        "\n",
        "    return jacobian\n",
        "\n",
        "# Step 4: Generate the Jacobian matrix for the last time period (t = 100)\n",
        "time_period = 100\n",
        "jacobian = jacobian_matrix(time_period, data, alpha)\n",
        "\n",
        "# Step 5: Display the Jacobian matrix\n",
        "print(f\"Jacobian matrix for time period {time_period}:\")\n",
        "print(jacobian)"
      ]
    },
    {
      "cell_type": "markdown",
      "id": "68f943d6",
      "metadata": {
        "id": "68f943d6"
      },
      "source": [
        "Q2. Estimation equation for nested logit model is as follows:\n",
        "$log𝑠_{jt}−log𝑠_0 = \\alpha p_{jt} + \\beta_1 sug_{jt} + \\beta_2 𝑐𝑎𝑓_{𝑗𝑡} + \\gamma_d 𝐷𝑖𝑒𝑡_{𝑗} + \\gamma_r 𝑅𝑒𝑔𝑢𝑙𝑎𝑟_{𝑗} + \\sigma log 𝑠_{𝑗𝑡/𝑔} + \\xi_{𝑗𝑡}$"
      ]
    },
    {
      "cell_type": "code",
      "execution_count": null,
      "id": "3b813ded",
      "metadata": {
        "id": "3b813ded"
      },
      "outputs": [],
      "source": [
        "data['nest_total_share'] = data.groupby(['nest', 't'])['market_share'].transform('sum')\n",
        "\n",
        "# Step 2: Calculate delta (log of market share divided by sum of market share in the nest)\n",
        "data['s_jt_g'] = data['market_share'] / data['nest_total_share']\n",
        "data['logs_jt_g'] = np.log(data['s_jt_g'])\n",
        "data['s_g'] = data.groupby('nest')['market_share'].transform('sum')\n",
        "data['s_jt'] = data['market_share']"
      ]
    },
    {
      "cell_type": "markdown",
      "id": "011dc494",
      "metadata": {
        "id": "011dc494"
      },
      "source": [
        "We use identical instruments as question 1 (b)."
      ]
    },
    {
      "cell_type": "code",
      "execution_count": null,
      "id": "53f95811",
      "metadata": {
        "id": "53f95811",
        "outputId": "08e48ac9-43ee-4557-fc1d-c6ca4f357cf6"
      },
      "outputs": [
        {
          "name": "stdout",
          "output_type": "stream",
          "text": [
            "                            OLS Regression Results                            \n",
            "==============================================================================\n",
            "Dep. Variable:              log_share   R-squared:                       0.992\n",
            "Model:                            OLS   Adj. R-squared:                  0.992\n",
            "Method:                 Least Squares   F-statistic:                 2.366e+04\n",
            "Date:                Sun, 22 Sep 2024   Prob (F-statistic):               0.00\n",
            "Time:                        04:41:23   Log-Likelihood:                 7.8483\n",
            "No. Observations:                1000   AIC:                            -3.697\n",
            "Df Residuals:                     994   BIC:                             25.75\n",
            "Df Model:                           5                                         \n",
            "Covariance Type:            nonrobust                                         \n",
            "===================================================================================\n",
            "                      coef    std err          t      P>|t|      [0.025      0.975]\n",
            "-----------------------------------------------------------------------------------\n",
            "predicted_price    -0.1840      0.042     -4.423      0.000      -0.266      -0.102\n",
            "sugar               0.1456      0.022      6.504      0.000       0.102       0.190\n",
            "caffeine            0.1606      0.015     10.806      0.000       0.131       0.190\n",
            "Diet                3.8588      0.050     76.498      0.000       3.760       3.958\n",
            "Regular             4.0823      0.076     53.803      0.000       3.933       4.231\n",
            "logs_jt_g           0.9797      0.003    307.406      0.000       0.973       0.986\n",
            "==============================================================================\n",
            "Omnibus:                       11.251   Durbin-Watson:                   0.636\n",
            "Prob(Omnibus):                  0.004   Jarque-Bera (JB):               17.182\n",
            "Skew:                          -0.038   Prob(JB):                     0.000186\n",
            "Kurtosis:                       3.638   Cond. No.                         77.5\n",
            "==============================================================================\n",
            "\n",
            "Notes:\n",
            "[1] Standard Errors assume that the covariance matrix of the errors is correctly specified.\n"
          ]
        }
      ],
      "source": [
        "# Problem 2(a)\n",
        "\n",
        "# Instruments (created above)\n",
        "instruments = data[['predicted_price', 'sugar', 'caffeine', 'Diet', 'Regular', 'logs_jt_g']]\n",
        "\n",
        "# Second stage regression: Use predicted price instead of actual price\n",
        "nested_reg = sm.OLS(data['log_share'], instruments).fit()\n",
        "\n",
        "# Step 5: Print the summary of the second stage results\n",
        "print(nested_reg.summary())"
      ]
    },
    {
      "cell_type": "markdown",
      "id": "f5305b13",
      "metadata": {
        "id": "f5305b13"
      },
      "source": [
        "2 (b): $$\n",
        "\\frac{\\partial s_{jt}}{\\partial p_{jt}} = \\frac{\\alpha}{1-\\sigma}s_{jt}(1-\\sigma\\bar{s}_{jt|g}-(1-\\sigma)s_{jt})$$\n",
        "\n",
        "$$\n",
        "\\frac{\\partial s_{jt}}{\\partial p_{jt}} \\frac{p_{jt}}{s_{jt}} = \\{\\frac{\\alpha}{1-\\sigma}s_{jt}(1-\\sigma\\bar{s}_{jt|g}-(1-\\sigma)s_{jt})\\}\\frac{p_{jt}}{s_{jt}}\n",
        "$$"
      ]
    },
    {
      "cell_type": "code",
      "execution_count": null,
      "id": "9151fb5b",
      "metadata": {
        "id": "9151fb5b"
      },
      "outputs": [],
      "source": [
        "# Estimated parameters from Problem 2(a)\n",
        "alpha = -0.1840\n",
        "sigma = 0.9797"
      ]
    },
    {
      "cell_type": "code",
      "execution_count": null,
      "id": "b1d566ec",
      "metadata": {
        "id": "b1d566ec",
        "outputId": "2d4756ed-3de8-4826-a878-c3d60d737a2a"
      },
      "outputs": [
        {
          "name": "stdout",
          "output_type": "stream",
          "text": [
            "Mean own-price elasticity for Diet drinks: -16.300934428812113\n",
            "Mean own-price elasticity for Regular drinks: -24.728992352331595\n"
          ]
        }
      ],
      "source": [
        "# Problem 2(b)\n",
        "\n",
        "def calculate_price_derivatives_and_elasticities(data, alpha):\n",
        "    # Own-price derivatives\n",
        "    coef_der = alpha / (1-sigma)\n",
        "    data['own_price_derivative'] = coef_der * data['s_jt'] * (1 - sigma * data['s_jt_g'] - (1 - sigma) * data['s_jt'])\n",
        "    # Own-price elasticities\n",
        "    data['own_price_elasticity'] = data['own_price_derivative'] * data['price'] / data['s_jt']\n",
        "\n",
        "    return data\n",
        "\n",
        "# Apply the derivative and elasticity calculation\n",
        "data = calculate_price_derivatives_and_elasticities(data, alpha)\n",
        "\n",
        "# Calculate the mean elasticities for regular and diet drinks\n",
        "mean_elasticity_diet = data[data['Diet'] == 1]['own_price_elasticity'].mean()\n",
        "mean_elasticity_regular = data[data['Regular'] == 1]['own_price_elasticity'].mean()\n",
        "\n",
        "# Display the results\n",
        "print(f'Mean own-price elasticity for Diet drinks: {mean_elasticity_diet}')\n",
        "print(f'Mean own-price elasticity for Regular drinks: {mean_elasticity_regular}')"
      ]
    },
    {
      "cell_type": "markdown",
      "id": "6731d471",
      "metadata": {
        "id": "6731d471"
      },
      "source": [
        "2 (c)\n",
        "\n",
        "\n",
        "Case (1) the other product is in the same group:\n",
        "$$\n",
        "\\frac{\\partial s_{jt}}{\\partial p_{kt}} = -\\alpha s_{kt} (s_{jt} + \\frac{\\sigma}{1-\\sigma}\\bar{s}_{jt|g})\n",
        "$$\n",
        "\n",
        "$$\n",
        "\\frac{\\partial s_{jt}}{\\partial p_{kt}} \\frac{p_{kt}}{s_{jt}} = -\\alpha s_{kt} (s_{jt} + \\frac{\\sigma}{1-\\sigma}\\bar{s}_{jt|g}) \\frac{p_{kt}}{s_{jt}}\n",
        "$$\n",
        "\n",
        "Case (2) the other product is in a different group:\n",
        "\n",
        "$$\n",
        "\\frac{\\partial s_{jt}}{\\partial p_{kt}} = - \\alpha s_{jt|g} s_g s_{jt|k} s_i = -\\alpha s_{jt} s_{kt}\n",
        "$$\n",
        "\n",
        "$$\n",
        "\\frac{\\partial s_{jt}}{\\partial p_{kt}} \\frac{p_{kt}}{s_{jt}} = -\\alpha p_{kt} s_{kt}\n",
        "$$"
      ]
    },
    {
      "cell_type": "code",
      "execution_count": null,
      "id": "d419360a",
      "metadata": {
        "id": "d419360a",
        "outputId": "0ef145f3-80db-4b39-a48e-1fadaca99ab7"
      },
      "outputs": [
        {
          "name": "stdout",
          "output_type": "stream",
          "text": [
            "Mean cross-price elasticity between product 1 and diet sodas: 8.498508506171504\n",
            "Mean cross-price elasticity between product 1 and regular sodas: 0.05755371263073479\n"
          ]
        }
      ],
      "source": [
        "# problem 2(c)\n",
        "\n",
        "data['nest_total_share'] = data.groupby(['nest', 't'])['market_share'].transform('sum')\n",
        "data['s_jt_g'] = data['market_share'] / data['nest_total_share']\n",
        "\n",
        "# Get the utility, market share, and price for product 1\n",
        "product1_data = data[data['product_ID'] == 1]\n",
        "share_1 = product1_data['s_jt'].values[0]\n",
        "price_1 = product1_data['price'].values[0]\n",
        "s_1t_g = product1_data['s_jt_g'].values[0]\n",
        "\n",
        "# Initialize lists to store cross-price derivatives and elasticities\n",
        "cross_price_derivatives = []\n",
        "cross_price_elasticities = []\n",
        "\n",
        "# Calculate cross-price derivatives and elasticities for all products except product 1\n",
        "for t in data['t'].unique():\n",
        "    for j in data[data['product_ID'] != 1]['product_ID'].unique():\n",
        "        sjt = data[(data['t'] == t) & (data['product_ID'] == j)]['market_share'].values[0]\n",
        "        pj = data[(data['t'] == t) & (data['product_ID'] == j)]['price'].values[0]\n",
        "        nest_j = data[(data['t'] == t) & (data['product_ID'] == j)]['nest'].values[0]\n",
        "        s_jt_g = data[(data['t'] == t) & (data['product_ID'] == j)]['s_jt_g'].values[0]\n",
        "\n",
        "\n",
        "        # If product j is in the same nest as product 1\n",
        "        if nest_j == product1_data['nest'].values[0]:\n",
        "            # Cross-price derivative (within-nest effect)\n",
        "            coef1 = alpha * sigma / ( 1 - sigma)\n",
        "            cross_price_derivative =  - coef1 * share_1 * s_jt_g - alpha * share_1 * sjt\n",
        "\n",
        "        else:\n",
        "            # Cross-price derivative (between-nest effect)\n",
        "            cross_price_derivative = - alpha * sjt * share_1\n",
        "\n",
        "        cross_price_derivatives.append(cross_price_derivative)\n",
        "\n",
        "        # Calculate cross-price elasticity\n",
        "        cross_price_elasticity = cross_price_derivative * (price_1 / sjt)\n",
        "        cross_price_elasticities.append(cross_price_elasticity)\n",
        "\n",
        "# Calculate mean cross-price elasticity between product 1 and diet sodas\n",
        "mean_cross_price_elasticity_diet = np.mean([e for e, nest in zip(cross_price_elasticities, data[data['product_ID'] != 1]['nest']) if nest == 'Diet'])\n",
        "\n",
        "# Calculate mean cross-price elasticity between product 1 and regular sodas\n",
        "mean_cross_price_elasticity_regular = np.mean([e for e, nest in zip(cross_price_elasticities, data[data['product_ID'] != 1]['nest']) if nest == 'Regular'])\n",
        "\n",
        "# Print results\n",
        "print(\"Mean cross-price elasticity between product 1 and diet sodas:\", mean_cross_price_elasticity_diet)\n",
        "print(\"Mean cross-price elasticity between product 1 and regular sodas:\", mean_cross_price_elasticity_regular)"
      ]
    },
    {
      "cell_type": "markdown",
      "id": "3f8a484d",
      "metadata": {
        "id": "3f8a484d"
      },
      "source": [
        "Problem 2 (d).\n",
        "\n",
        "For Diet sodas, its demand reacts more sensitively to its own price changes both within nests and across nests compared to Problem 1. For Regular sodas, although its demand becomes more sensitive to its own price change, it becomes less sensitive to the Diet soda's price changes both within and across nests."
      ]
    },
    {
      "cell_type": "code",
      "execution_count": null,
      "id": "416a449c",
      "metadata": {
        "id": "416a449c",
        "outputId": "7b3379c6-90b7-4698-caff-3163bcaba761"
      },
      "outputs": [
        {
          "name": "stdout",
          "output_type": "stream",
          "text": [
            "Jacobian matrix for time period 100:\n",
            " [[-4.66150751e-01  2.30167912e-03  1.69141813e-02  3.36611592e-02\n",
            "   4.05628005e-01  4.52676699e-04  5.14898418e-03  1.11426652e-03\n",
            "   4.72006192e-04  4.18398718e-04]\n",
            " [ 2.30167912e-03 -1.25425423e-02  3.73431419e-04  7.43171319e-04\n",
            "   8.95545806e-03  9.99419947e-06  1.13679311e-04  2.46007844e-05\n",
            "   1.04209562e-05  9.23740996e-06]\n",
            " [ 1.69141813e-02  3.73431419e-04 -8.97996885e-02  5.46128883e-03\n",
            "   6.58103210e-02  7.34436442e-05  8.35386852e-04  1.80781989e-04\n",
            "   7.65797199e-05  6.78822804e-05]\n",
            " [ 3.36611592e-02  7.43171319e-04  5.46128883e-03 -1.73304369e-01\n",
            "   1.30970081e-01  1.46161268e-04  1.66251557e-03  3.59776875e-04\n",
            "   1.52402419e-04  1.35093517e-04]\n",
            " [ 4.05628005e-01  8.95545806e-03  6.58103210e-02  1.30970081e-01\n",
            "  -6.41112141e-01  1.76129121e-03  2.00338577e-02  4.33542930e-03\n",
            "   1.83649911e-03  1.62792117e-03]\n",
            " [ 4.52676699e-04  9.99419947e-06  7.34436442e-05  1.46161268e-04\n",
            "   1.76129121e-03 -3.33408205e-01  2.38200686e-01  5.15478471e-02\n",
            "   2.18358019e-02  1.93558299e-02]\n",
            " [ 5.14898418e-03  1.13679311e-04  8.35386852e-04  1.66251557e-03\n",
            "   2.00338577e-02  2.38200686e-01 -1.32114136e+00  5.86332476e-01\n",
            "   2.48371960e-01  2.20163446e-01]\n",
            " [ 1.11426652e-03  2.46007844e-05  1.80781989e-04  3.59776875e-04\n",
            "   4.33542930e-03  5.15478471e-02  5.86332476e-01 -7.45348878e-01\n",
            "   5.37489627e-02  4.76444960e-02]\n",
            " [ 4.72006192e-04  1.04209562e-05  7.65797199e-05  1.52402419e-04\n",
            "   1.83649911e-03  2.18358019e-02  2.48371960e-01  5.37489627e-02\n",
            "  -3.46712483e-01  2.01823323e-02]\n",
            " [ 4.18398718e-04  9.23740996e-06  6.78822804e-05  1.35093517e-04\n",
            "   1.62792117e-03  1.93558299e-02  2.20163446e-01  4.76444960e-02\n",
            "   2.01823323e-02 -3.09627257e-01]]\n"
          ]
        }
      ],
      "source": [
        "# Problem 2(e)\n",
        "\n",
        "# Define a function to generate the Jacobian matrix ∆(p)\n",
        "def calculate_jacobian(data, alpha, sigma):\n",
        "    n = len(data)  # Number of products\n",
        "    jacobian_matrix = np.zeros((n, n))  # Initialize Jacobian matrix\n",
        "\n",
        "    # Loop over all products to compute derivatives\n",
        "    for i in range(n):\n",
        "        for j in range(n):\n",
        "            if i == j:  # Own-price derivative\n",
        "                jacobian_matrix[i, j] = (alpha * data['s_jt'].iloc[i] * (1 - sigma * data['s_jt_g'].iloc[i] - (1 - sigma) * data['s_jt'].iloc[i])/ (1 - sigma))\n",
        "            else:  # Cross-price derivative\n",
        "                if data['nest'].iloc[i] == data['nest'].iloc[j]:  # If in the same nest\n",
        "                    jacobian_matrix[i, j] = - data['s_jt'].iloc[j] * data['s_jt_g'].iloc[i] * alpha * sigma / (1-sigma) - alpha * data['s_jt'].iloc[i] * data['s_jt'].iloc[j]\n",
        "                else:  # If in different nests\n",
        "                    jacobian_matrix[i, j] = - (alpha * data['s_jt'].iloc[j] * data['s_jt'].iloc[i])\n",
        "\n",
        "    return jacobian_matrix\n",
        "\n",
        "# Apply the Jacobian calculation for a specific period (e.g., t = 100)\n",
        "time_period = 100\n",
        "data_t = data[data['t'] == time_period]  # Filter data for the selected period\n",
        "\n",
        "# Calculate the Jacobian matrix for the selected period\n",
        "jacobian_matrix = calculate_jacobian(data_t, alpha, sigma)\n",
        "\n",
        "# Print the Jacobian matrix for the last time period (t = 100)\n",
        "print(f\"Jacobian matrix for time period {time_period}:\\n\", jacobian_matrix)"
      ]
    },
    {
      "cell_type": "code",
      "execution_count": null,
      "id": "2e9a446d",
      "metadata": {
        "id": "2e9a446d",
        "outputId": "caebffaa-a1be-4f07-c7eb-8bead23bcba4"
      },
      "outputs": [
        {
          "name": "stdout",
          "output_type": "stream",
          "text": [
            "     product_ID     price  marginal_cost\n",
            "0             1  2.814362       2.641139\n",
            "1             2  2.935735       2.785182\n",
            "2             3  2.467309       2.314064\n",
            "3             4  1.543958       1.430979\n",
            "4             5  1.495961       1.379585\n",
            "..          ...       ...            ...\n",
            "995           6  3.183553       3.066297\n",
            "996           7  4.671217       4.334632\n",
            "997           8  3.134615       3.005507\n",
            "998           9  3.196304       3.078733\n",
            "999          10  3.082792       2.966091\n",
            "\n",
            "[1000 rows x 3 columns]\n",
            "Mean Lerner Index for these products: 0.05740749337498979\n"
          ]
        }
      ],
      "source": [
        "# problem 3(a)\n",
        "\n",
        "\n",
        "# Step 1: Set the number of consumers in the market (M_t)\n",
        "M_t = 100000\n",
        "\n",
        "# Step 2: Calculate the quantity sold (q_jt = s_jt * M_t)\n",
        "data['quantity_sold'] = data['market_share'] * M_t\n",
        "\n",
        "# Step 3: Use the own-price derivatives to compute marginal cost\n",
        "# The formula for marginal cost is: c_jt = p_jt + (s_jt / ∂s_jt / ∂p_jt)\n",
        "data['marginal_cost'] = data['price'] + (data['market_share'] / data['own_price_derivative'])\n",
        "\n",
        "# Step 4: Print the marginal costs\n",
        "print(data[['product_ID', 'price', 'marginal_cost']])\n",
        "\n",
        "# Step 5: Calculate the mean Lerner index for these products\n",
        "# Lerner index: (p_jt - c_jt) / p_jt\n",
        "data['lerner_index'] = (data['price'] - data['marginal_cost']) / data['price']\n",
        "mean_lerner_index = data['lerner_index'].mean()\n",
        "\n",
        "print(\"Mean Lerner Index for these products:\", mean_lerner_index)\n"
      ]
    },
    {
      "cell_type": "markdown",
      "id": "1ab63f90",
      "metadata": {
        "id": "1ab63f90"
      },
      "source": [
        "Problem 3(b)\n",
        "\n",
        "First, I will extract own price derivatives and cross price derivatives that will be used in 3 (b)"
      ]
    },
    {
      "cell_type": "code",
      "execution_count": null,
      "id": "01c69161",
      "metadata": {
        "id": "01c69161"
      },
      "outputs": [],
      "source": [
        "# Define a function to generate the Jacobian matrix ∆(p)\n",
        "def calculate_jacobian(data, alpha, sigma):\n",
        "    n = len(data)  # Number of products\n",
        "    jacobian_matrix = np.zeros((n, n))  # Initialize Jacobian matrix\n",
        "\n",
        "    # Loop over all products to compute derivatives\n",
        "    for i in range(n):\n",
        "        for j in range(n):\n",
        "            if i == j:  # Own-price derivative\n",
        "                jacobian_matrix[i, j] = alpha * data['s_jt'].iloc[i] * (1 - sigma * data['s_jt_g'].iloc[i] - (1 - sigma) * data['s_jt'].iloc[i])/ (1 - sigma)\n",
        "            else:  # Cross-price derivative\n",
        "                if data['nest'].iloc[i] == data['nest'].iloc[j]:  # If in the same nest\n",
        "                    jacobian_matrix[i, j] = - data['s_jt'].iloc[j] * data['s_jt_g'].iloc[i] * alpha * sigma / (1-sigma) - alpha * data['s_jt'].iloc[i] * data['s_jt'].iloc[j]\n",
        "                else:  # If in different nests\n",
        "                    jacobian_matrix[i, j] = - (alpha * data['s_jt'].iloc[j] * data['s_jt'].iloc[i])\n",
        "\n",
        "    return jacobian_matrix\n",
        "\n",
        "# Apply the Jacobian calculation for a specific period (e.g., t = 100)\n",
        "time_period = 100\n",
        "data_t = data[data['t'] == time_period]  # Filter data for the selected period\n",
        "\n",
        "# Calculate the Jacobian matrix for the selected period\n",
        "jacobian_matrix = calculate_jacobian(data_t, alpha, sigma)\n",
        "\n",
        "# Extract own-price derivatives (diagonal elements)\n",
        "own_price_derivatives = np.diag(jacobian_matrix)\n",
        "\n",
        "# Extract cross-price derivatives (off-diagonal elements)\n",
        "cross_price_derivatives = jacobian_matrix - np.diagflat(own_price_derivatives)\n",
        "\n",
        "# Extract own and cross-price derivatives for products 1 and 2\n",
        "# Assuming product IDs for 1 and 2 correspond to rows 0 and 1 in the data\n",
        "own_price_derivative_1 = own_price_derivatives[0]\n",
        "own_price_derivative_2 = own_price_derivatives[1]\n",
        "\n",
        "cross_price_derivative_12 = jacobian_matrix[0, 1]  # Effect of p2 on s1\n",
        "cross_price_derivative_21 = jacobian_matrix[1, 0]  # Effect of p1 on s2\n",
        "\n"
      ]
    },
    {
      "cell_type": "markdown",
      "id": "9ae95b49",
      "metadata": {
        "id": "9ae95b49"
      },
      "source": [
        "Then, we solve the optimization problem as follows:\n",
        "\n",
        "\n",
        "Objective Function:\\\n",
        "$\\Pi_{ft} = (p_1 - c_1)M_t + (p_2 - c_2)M_t$\n",
        "\n",
        "\n",
        "FOCs:\n",
        "\n",
        "$ \\frac{\\partial \\Pi_{ft}}{\\partial p_{1t}} = s_{1t}M_t + (p_{1t} - c_{1t})\\frac{\\partial s_{1t}}{\\partial p_{1t}}M_t + (p_{2t}-c_{2t})\\frac{\\partial s_{2t}}{\\partial p_{1t}}M_t = 0$\n",
        "\n",
        "$ \\frac{\\partial \\Pi_{ft}}{\\partial p_{2t}} = s_{2t}M_t + (p_{2t} - c_{2t})\\frac{\\partial s_{2t}}{\\partial p_{2t}}M_t + (p_{1t}-c_{1t})\\frac{\\partial s_{1t}}{\\partial p_{2t}}M_t = 0$\n"
      ]
    },
    {
      "cell_type": "code",
      "execution_count": null,
      "id": "90c42844",
      "metadata": {
        "id": "90c42844",
        "outputId": "62c9f45a-c83e-4bd7-df6c-3073e2603ca0"
      },
      "outputs": [
        {
          "name": "stdout",
          "output_type": "stream",
          "text": [
            "Initial price for product 1: 3.179470747\n",
            "Initial price for product 2: 1.907350248\n",
            "Optimal price for product 1: 3.180140634102441\n",
            "Optimal price for product 2: 1.9322469848657724\n"
          ]
        }
      ],
      "source": [
        "# Filter data for t = 100 (the last time period)\n",
        "data_t100 = data[data['t'] == 100]\n",
        "\n",
        "# Market size (M_t = 100,000, given in the problem description)\n",
        "M_t = 100000\n",
        "\n",
        "# Extract necessary variables for products 1 and 2 at t = 100\n",
        "market_share_1 = data_t100.loc[data_t100['product_ID'] == 1, 'market_share'].values[0]\n",
        "market_share_2 = data_t100.loc[data_t100['product_ID'] == 2, 'market_share'].values[0]\n",
        "\n",
        "# Extract marginal costs for products 1 and 2 at t = 100\n",
        "c1 = data_t100.loc[data_t100['product_ID'] == 1, 'marginal_cost'].values[0]\n",
        "c2 = data_t100.loc[data_t100['product_ID'] == 2, 'marginal_cost'].values[0]\n",
        "\n",
        "# Extract prices for products 1 and 2 at t = 100\n",
        "price_1 = data_t100.loc[data_t100['product_ID'] == 1, 'price'].values[0]\n",
        "price_2 = data_t100.loc[data_t100['product_ID'] == 2, 'price'].values[0]\n",
        "print(f\"Initial price for product 1: {price_1}\")\n",
        "print(f\"Initial price for product 2: {price_2}\")\n",
        "\n",
        "# We already extracted own-price and cross-price elasticities for products 1 and 2 at t = 100 from above\n",
        "\n",
        "# Define the FOC system for two products (products 1 and 2) using actual data\n",
        "def FOCs(variables):\n",
        "    p1, p2 = variables\n",
        "    s1 = market_share_1\n",
        "    s2 = market_share_2\n",
        "\n",
        "    # FOC for p1 (including cross-price effect of p2 on p1)\n",
        "    FOC1 = s1*M_t + (p1 - c1) * own_price_derivative_1 * M_t + (p2 - c2) * cross_price_derivative_12 * M_t\n",
        "\n",
        "    # FOC for p2 (including cross-price effect of p1 on p2)\n",
        "    FOC2 = s2 * M_t + (p2 - c2) * own_price_derivative_2 * M_t + (p1 - c1) * cross_price_derivative_21 * M_t\n",
        "\n",
        "    return [FOC1, FOC2]\n",
        "\n",
        "# Initial guess for prices\n",
        "initial_guess = [price_1, price_2]\n",
        "\n",
        "# Solve the system of FOCs\n",
        "solution = fsolve(FOCs, initial_guess)\n",
        "\n",
        "# Output the solution\n",
        "p1_optimal, p2_optimal = solution\n",
        "print(f\"Optimal price for product 1: {p1_optimal}\")\n",
        "print(f\"Optimal price for product 2: {p2_optimal}\")\n",
        "\n",
        "\n"
      ]
    },
    {
      "cell_type": "code",
      "execution_count": null,
      "id": "5bfd3116",
      "metadata": {
        "id": "5bfd3116",
        "outputId": "ed90c2ed-2116-4ef6-9b9f-2aad05d5cb42"
      },
      "outputs": [
        {
          "name": "stdout",
          "output_type": "stream",
          "text": [
            "Average price of merging firms' products before the merger: 2.5434104975\n",
            "Average price of merging firms' products after the merger: 2.556193809484107\n",
            "Average price of competing products in the same nest (Diet) before the merger: 2.2272790473333335\n",
            "Average price of competing products in the same nest (Diet) after the merger: 2.2272790473333335\n",
            "Average price of competing products in the same nest (Regular) before the merger: 3.4536960544000004\n",
            "Average price of competing products in the same nest (Regular) after the merger: 3.4536960544000004\n"
          ]
        }
      ],
      "source": [
        "# Problem 3(c)\n",
        "\n",
        "# Load the dataset (assuming it's already loaded as 'data')\n",
        "\n",
        "# Filter data for t = 100 (the last time period)\n",
        "data_t100 = data[data['t'] == 100]\n",
        "\n",
        "# Market size (M_t = 100,000)\n",
        "M_t = 100000\n",
        "\n",
        "# Extract prices for all products before solving for new optimal prices\n",
        "prices_before = data_t100[['product_ID', 'price', 'Diet', 'Regular']]\n",
        "\n",
        "# Solve for the optimal prices for the merging firms (products 1 and 2) using the existing code\n",
        "# We assume that `FOCs` function and optimal prices for product 1 and 2 (`p1_optimal`, `p2_optimal`) are already computed\n",
        "\n",
        "# Update prices for the merging firms (product 1 and 2)\n",
        "data_t100.loc[data_t100['product_ID'] == 1, 'price'] = p1_optimal\n",
        "data_t100.loc[data_t100['product_ID'] == 2, 'price'] = p2_optimal\n",
        "\n",
        "# Extract prices after solving for optimal prices\n",
        "prices_after = data_t100[['product_ID', 'price', 'Diet', 'Regular']]\n",
        "\n",
        "# Calculate the average price for merging firms' products before and after the merger\n",
        "merging_firm_products = [1, 2]\n",
        "average_price_before_merger = prices_before[prices_before['product_ID'].isin(merging_firm_products)]['price'].mean()\n",
        "average_price_after_merger = prices_after[prices_after['product_ID'].isin(merging_firm_products)]['price'].mean()\n",
        "\n",
        "# Calculate the average price for competing products in the same nest (Diet or Regular)\n",
        "# Products in the same nest as merging firms (filter by diet_dummy or regular_dummy)\n",
        "diet_products = data_t100[data_t100['Diet'] == 1]\n",
        "regular_products = data_t100[data_t100['Regular'] == 1]\n",
        "\n",
        "competing_diet_prices_before = prices_before[(prices_before['Diet'] == 1) & (~prices_before['product_ID'].isin(merging_firm_products))]['price'].mean()\n",
        "competing_regular_prices_before = prices_before[(prices_before['Regular'] == 1) & (~prices_before['product_ID'].isin(merging_firm_products))]['price'].mean()\n",
        "\n",
        "competing_diet_prices_after = prices_after[(prices_after['Diet'] == 1) & (~prices_after['product_ID'].isin(merging_firm_products))]['price'].mean()\n",
        "competing_regular_prices_after = prices_after[(prices_after['Regular'] == 1) & (~prices_after['product_ID'].isin(merging_firm_products))]['price'].mean()\n",
        "\n",
        "# Print the results for Problem 3(c)\n",
        "print(f\"Average price of merging firms' products before the merger: {average_price_before_merger}\")\n",
        "print(f\"Average price of merging firms' products after the merger: {average_price_after_merger}\")\n",
        "print(f\"Average price of competing products in the same nest (Diet) before the merger: {competing_diet_prices_before}\")\n",
        "print(f\"Average price of competing products in the same nest (Diet) after the merger: {competing_diet_prices_after}\")\n",
        "print(f\"Average price of competing products in the same nest (Regular) before the merger: {competing_regular_prices_before}\")\n",
        "print(f\"Average price of competing products in the same nest (Regular) after the merger: {competing_regular_prices_after}\")\n",
        "\n"
      ]
    },
    {
      "cell_type": "code",
      "execution_count": null,
      "id": "83fe658d",
      "metadata": {
        "id": "83fe658d",
        "outputId": "7e9dc042-b2a2-4a69-e481-aad8c795eba1"
      },
      "outputs": [
        {
          "name": "stdout",
          "output_type": "stream",
          "text": [
            "Average price before collusion: 2.9037138409\n",
            "Average price after collusion: 1600.1660912535667\n",
            "Optimal collusion price for product 1: 1600.474433482728\n",
            "Optimal collusion price for product 2: 1599.2265398334923\n",
            "Optimal collusion price for product 3: 1599.1384035650715\n",
            "Optimal collusion price for product 4: 1599.8463432562132\n",
            "Optimal collusion price for product 5: 1599.3741187157689\n",
            "Optimal collusion price for product 6: 1600.4962597924327\n",
            "Optimal collusion price for product 7: 1601.764594716376\n",
            "Optimal collusion price for product 8: 1600.4354699851256\n",
            "Optimal collusion price for product 9: 1600.5086955228437\n",
            "Optimal collusion price for product 10: 1600.3960536656118\n"
          ]
        },
        {
          "name": "stderr",
          "output_type": "stream",
          "text": [
            "C:\\Users\\LG\\AppData\\Local\\Temp\\ipykernel_23920\\1807599440.py:54: SettingWithCopyWarning: \n",
            "A value is trying to be set on a copy of a slice from a DataFrame.\n",
            "Try using .loc[row_indexer,col_indexer] = value instead\n",
            "\n",
            "See the caveats in the documentation: https://pandas.pydata.org/pandas-docs/stable/user_guide/indexing.html#returning-a-view-versus-a-copy\n",
            "  data_t100['price_collusion'] = optimal_prices_collusion\n"
          ]
        }
      ],
      "source": [
        "# Problem 3(d)\n",
        "\n",
        "\n",
        "# Filter data for t = 100 (the last time period)\n",
        "data_t100 = data[data['t'] == 100]\n",
        "\n",
        "# Market size (M_t = 100,000, given in the problem description)\n",
        "M_t = 100000\n",
        "\n",
        "# Extract necessary variables (prices, marginal costs, market shares)\n",
        "prices = data_t100['price'].values\n",
        "marginal_costs = data_t100['marginal_cost'].values\n",
        "market_shares = data_t100['market_share'].values\n",
        "\n",
        "# Number of products\n",
        "n = len(data_t100)\n",
        "\n",
        "# Own-price and cross-price derivatives are already calculated via the Jacobian\n",
        "jacobian_matrix = calculate_jacobian(data_t100, alpha, sigma)\n",
        "\n",
        "# Define the joint profit function's FOCs for colluding firms\n",
        "def collusion_FOCs(prices):\n",
        "    FOCs = []\n",
        "\n",
        "    # Loop through each product and define its FOC\n",
        "    for i in range(n):\n",
        "        # Initialize the cross-price derivative sum for product i\n",
        "        cross_price_derivative_sum = 0\n",
        "\n",
        "        # Loop over all products to compute own-price and cross-price derivatives\n",
        "        for j in range(n):\n",
        "            if i == j:\n",
        "                # Own-price derivative for product i\n",
        "                own_price_derivative = jacobian_matrix[i, i]\n",
        "            else:\n",
        "                # Cross-price derivative for product i with respect to price j\n",
        "                cross_price_derivative_sum += (prices[j] - marginal_costs[j]) * jacobian_matrix[j, i]\n",
        "\n",
        "        # FOC for product i: sum the own-price and cross-price effects\n",
        "        FOC = market_shares[i] + (prices[i] - marginal_costs[i]) * own_price_derivative + cross_price_derivative_sum\n",
        "        FOCs.append(FOC)\n",
        "\n",
        "    return FOCs\n",
        "\n",
        "\n",
        "\n",
        "# Initial guess for the prices (use the current prices)\n",
        "initial_guess = prices\n",
        "\n",
        "# Solve the system of FOCs for the colluding firms\n",
        "optimal_prices_collusion = fsolve(collusion_FOCs, initial_guess)\n",
        "\n",
        "# Update the dataset with the new collusion prices\n",
        "data_t100['price_collusion'] = optimal_prices_collusion\n",
        "\n",
        "# Calculate and print the average prices before and after collusion\n",
        "average_price_before_collusion = data_t100['price'].mean()\n",
        "average_price_after_collusion = data_t100['price_collusion'].mean()\n",
        "\n",
        "print(f\"Average price before collusion: {average_price_before_collusion}\")\n",
        "print(f\"Average price after collusion: {average_price_after_collusion}\")\n",
        "\n",
        "# Print the optimal prices under collusion for each product\n",
        "for idx, price in enumerate(optimal_prices_collusion):\n",
        "    print(f\"Optimal collusion price for product {data_t100['product_ID'].values[idx]}: {price}\")\n"
      ]
    },
    {
      "cell_type": "code",
      "execution_count": null,
      "id": "363979d2",
      "metadata": {
        "id": "363979d2"
      },
      "outputs": [],
      "source": []
    }
  ],
  "metadata": {
    "kernelspec": {
      "display_name": "Python 3 (ipykernel)",
      "language": "python",
      "name": "python3"
    },
    "language_info": {
      "codemirror_mode": {
        "name": "ipython",
        "version": 3
      },
      "file_extension": ".py",
      "mimetype": "text/x-python",
      "name": "python",
      "nbconvert_exporter": "python",
      "pygments_lexer": "ipython3",
      "version": "3.9.12"
    },
    "colab": {
      "provenance": [],
      "include_colab_link": true
    }
  },
  "nbformat": 4,
  "nbformat_minor": 5
}